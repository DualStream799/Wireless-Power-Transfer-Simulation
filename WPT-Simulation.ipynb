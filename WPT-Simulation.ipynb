{
 "cells": [
  {
   "cell_type": "code",
   "execution_count": 2,
   "metadata": {},
   "outputs": [],
   "source": [
    "import matplotlib.pyplot as plt\n",
    "from matplotlib import cm\n",
    "from numpy import linalg\n",
    "from cmath import *\n",
    "from math import *\n",
    "import numpy as np\n"
   ]
  },
  {
   "cell_type": "code",
   "execution_count": 4,
   "metadata": {},
   "outputs": [],
   "source": [
    "\"\"\"\n",
    "Returns the angular frequency w('omega') given the linear frequency f('freq')\n",
    "\"\"\"\n",
    "def omega(freq):\n",
    "    return 2*pi*freq\n",
    "\n",
    "\"\"\"\n",
    "Returns the phasorial representation of a resistor given it's resistance ('R')\n",
    "\"\"\"\n",
    "def Z_R(R):\n",
    "    return R\n",
    "\n",
    "\"\"\"\n",
    "Returns the phasorial representation of a capacitor given it's capacitance (in F) and the system frequency (both in rad/s or in Hz)\n",
    "\"\"\"\n",
    "def Z_C(w, C, f_in_Hz=False):\n",
    "    if f_in_Hz:\n",
    "        w = omega(w)\n",
    "    return 1/(1j*w*C)\n",
    "\n",
    "\"\"\"\n",
    "Returns the phasorial representation of a inductor given it's inductance (in H) and the system frequency (in both rad/s or in Hz)\n",
    "\"\"\"\n",
    "def Z_L(w, L, f_in_Hz=False):\n",
    "    if f_in_Hz:\n",
    "        w = omega(w)\n",
    "    return 1j*w*L\n",
    "\"\"\"\n",
    "Returns the polar representation of a phasor given it's cartesian (rectangular) representation\n",
    "\"\"\"\n",
    "def Z_rect_to_pol(Z):\n",
    "    return abs(Z), degrees(phase(Z))\n",
    "\n",
    "\"\"\"\n",
    "Shows a phasorial representation (in both polar and rectangular representations)\n",
    "\"\"\"\n",
    "def Z_show(Z, polar=True, before_text=\"\", after_text=\" \"):\n",
    "    if polar:\n",
    "        mod, ang = Z_rect_to_pol(Z)\n",
    "        print(before_text+\"{} < {}º\".format(mod, ang) + after_text)\n",
    "    else:\n",
    "        print(Z)\n",
    "    \n",
    "\"\"\"\n",
    "Returns the equivalent reactance given two reactances connected in parallel\n",
    "\"\"\"\n",
    "def in_parallel(Za, Zb):\n",
    "    return (Za * Zb) / (Za + Zb)\n",
    "\n",
    "\"\"\"\n",
    "Returns the equivalent reactance given two reactances connected in series\n",
    "\"\"\"    \n",
    "def in_series(Za, Zb):\n",
    "    return Za + Zb\n",
    "\n",
    "\"\"\"L\n",
    "Returns the current on a specific component given the Ohm's law (I = U / R)\n",
    "\"\"\"\n",
    "def current(Vt, Zx):\n",
    "    return Vt / Zx\n",
    "\n",
    "\"\"\"\n",
    "Returns the voltage on a specific component given the Ohm's law (U = R * I)\n",
    "\"\"\"\n",
    "def voltage(It, Zx):\n",
    "    return It*Zx\n",
    "\n",
    "\"\"\"\n",
    "Returns the currents on a tranformer component given the equivalent impedance of each side of the circuit(Z1, Z2)\n",
    "\"\"\"\n",
    "def transformer(v1, w, m, z1, z2):\n",
    "    xm = 1j*w*m\n",
    "    Z = np.array( [[z1, -xm], [-xm, z2]] )\n",
    "    V = np.array( [v1, 0] )\n",
    "    I = np.dot(linalg.inv(Z), V)\n",
    "    return I[0], I[1]\n",
    "\n",
    "\"\"\"\n",
    "Returns the \n",
    "\"\"\"\n",
    "def power(Vp, I):\n",
    "    Vef = Vp/sqrt(2)\n",
    "    Ief = I/sqrt(2)\n",
    "    S = Vef*Ief.conjugate()\n",
    "    return S"
   ]
  },
  {
   "cell_type": "markdown",
   "metadata": {},
   "source": [
    "![Circuit Model](modelo_v1.png \"WPT Circuit Model\")"
   ]
  },
  {
   "cell_type": "code",
   "execution_count": 11,
   "metadata": {},
   "outputs": [],
   "source": [
    "# Natural ressonance frequency:\n",
    "\n",
    "\n",
    "n = 200\n",
    "# \n",
    "lista_k = np.linspace(0, 1, n)\n",
    "lista_w = np.linspace(1, 5000, n)\n",
    "\n",
    "lista_v2 = []\n",
    "lista_i1 = []\n",
    "lista_i2 = []\n",
    "lista_P1 = []\n",
    "lista_P2 = []\n",
    "lista_Ef = []\n",
    "\n",
    "# r1=0.5\n",
    "# r2=0.5\n",
    "# l1=300e-3\n",
    "# l2=300e-3\n",
    "# f=60\n",
    "k=0.5\n",
    "\n",
    "#for k in lista_k:\n",
    "\n",
    "for w in lista_w:\n",
    "    # \n",
    "    V = 1e3 # V\n",
    "    # \n",
    "    L = 300e-3\n",
    "    C = 1e-6\n",
    "    R = 0.5\n",
    "    # Phasorial Representation of all components:\n",
    "    XR1 = Z_R(R)     # Ohm\n",
    "    XR2 = Z_R(R)     # Ohm\n",
    "    XL1 = Z_L(w, L)  # Ohm\n",
    "    XL2 = Z_L(w, L)  # Ohm\n",
    "    XC1 = Z_C(w, C)  # Ohm\n",
    "    XC2 = Z_C(w, C)  # Ohm\n",
    "    XRC = Z_R(100)   # Ohm\n",
    "\n",
    "    # Association between components (Transformer):\n",
    "    Zp1 = in_series(XC1, XR1)\n",
    "    Z1 = in_series(XL1, Zp1)\n",
    "\n",
    "    Zp2 = in_parallel(XC2, XRC)\n",
    "    Zp3 = in_series(XR2, XL2)\n",
    "    Z2 = in_series(Zp2, Zp3)\n",
    "\n",
    "\n",
    "    m = k*sqrt(L*L)\n",
    "    I1, I2 = transformer(V, w, m, Z1, Z2)\n",
    "    lista_i1.append(abs(I1))\n",
    "    lista_i2.append(abs(I2))\n",
    "\n",
    "    Irc = I2*Z2/XRC\n",
    "\n",
    "    Pf = abs(power(V, I1))\n",
    "    Prc = abs(power(XRC*Irc, Irc))\n",
    "    lista_P1.append( Pf )\n",
    "    lista_P2.append( Prc )\n",
    "\n",
    "    lista_Ef.append(Prc/Pf)\n",
    "    \n",
    "\n",
    "# Ressonance frequency:\n",
    "w = 1/sqrt(L*C)\n",
    "\n",
    "plt.plot(lista_w, lista_i1, label=\"I1\")\n",
    "plt.plot(lista_w, lista_i2, label=\"I2\")\n",
    "plt.axvline(w, color='r', linestyle='-', label='Fres')\n",
    "plt.legend()\n",
    "plt.show()\n",
    "\n",
    "plt.plot(lista_w, lista_P1, label=\"P1\")\n",
    "plt.plot(lista_w, lista_P2, label=\"P2\")\n",
    "plt.legend()\n",
    "plt.show()\n",
    "\n",
    "plt.plot(lista_w, lista_Ef, label=\"Pef\")\n",
    "plt.legend()\n",
    "plt.show()\n",
    "\n"
   ]
  },
  {
   "cell_type": "code",
   "execution_count": 12,
   "metadata": {},
   "outputs": [],
   "source": [
    "def wireless_power_plant(k, w):\n",
    "    #\n",
    "    V = 110 # V\n",
    "    # \n",
    "    L = 300e-3\n",
    "    C = 1e-6\n",
    "    R = 0.5\n",
    "    # Phasorial Representation of all components:\n",
    "    XR1 = Z_R(R)     # Ohm\n",
    "    XR2 = Z_R(R)     # Ohm\n",
    "    XL1 = Z_L(w, L)  # Ohm\n",
    "    XL2 = Z_L(w, L)  # Ohm\n",
    "    XC1 = Z_C(w, C)  # Ohm\n",
    "    XC2 = Z_C(w, C)  # Ohm\n",
    "    XRC = Z_R(100)   # Ohm\n",
    "    # Association between components (Transformer's left side):\n",
    "    Zp1 = in_series(XC1, XR1)\n",
    "    Z1 = in_series(XL1, Zp1)\n",
    "    # Association between components (Transformer's right side):\n",
    "    Zp2 = in_parallel(XC2, XRC)\n",
    "    Zp3 = in_series(XR2, XL2)\n",
    "    Z2 = in_series(Zp2, Zp3)\n",
    "\n",
    "    # Mutual \n",
    "    m = k*sqrt(L*L)\n",
    "    I1, I2 = transformer(V, w, m, Z1, Z2)\n",
    "\n",
    "    Irc = I2*Z2/XRC\n",
    "\n",
    "    Pf = abs(power(V, I1))\n",
    "    Prc = abs(power(XRC*Irc, Irc))\n",
    "\n",
    "    G = Prc/Pf\n",
    "    return G\n",
    "\n",
    "\n",
    "\n",
    "n = 200\n",
    "# \n",
    "lista_k = np.linspace(0.1, 1, n)\n",
    "lista_w = np.linspace(1, 5000, n)\n",
    "G = np.zeros(n, n)\n",
    "\n",
    "for k in lista_k:\n",
    "\n",
    "    for w in lista_w:\n",
    "\n",
    "k, w = np.meshgrid(lista_k, lista_w)\n",
    "G = wireless_power_plant(k, w)\n",
    "\n",
    "# Ressonance frequency:\n",
    "w = 1/sqrt(L*C)\n",
    "\n",
    "# \n",
    "fig, ax = plt.subplots(subplot_kw={'projection':'3d'})\n",
    "surf = ax.plot_surface(k, w, G, cmap=cm.plasma, linewidth=0, antialiased=False)\n",
    "\n"
   ]
  },
  {
   "cell_type": "code",
   "execution_count": 35,
   "metadata": {},
   "outputs": [
    {
     "data": {
      "text/plain": [
       "(1.8381902616911876, -12.797263688715953)"
      ]
     },
     "execution_count": 35,
     "metadata": {},
     "output_type": "execute_result"
    }
   ],
   "source": []
  },
  {
   "cell_type": "code",
   "execution_count": 42,
   "metadata": {},
   "outputs": [
    {
     "data": {
      "text/plain": [
       "(17.925294939525358+4.071626843002462j)"
      ]
     },
     "execution_count": 42,
     "metadata": {},
     "output_type": "execute_result"
    }
   ],
   "source": [
    "Vef = Vp/sqrt(2)\n",
    "Ief = I/sqrt(2)\n",
    "S = ( Vef )*Ief.conjugate()\n",
    "#Z_rect_to_pol(S)\n",
    "S"
   ]
  },
  {
   "cell_type": "code",
   "execution_count": 36,
   "metadata": {},
   "outputs": [
    {
     "data": {
      "image/png": "[encoded data removed]",
      "text/plain": [
       "<Figure size 432x288 with 1 Axes>"
      ]
     },
     "metadata": {
      "needs_background": "light"
     },
     "output_type": "display_data"
    }
   ],
   "source": [
    "x = np.arange(-5, 5, 0.1)\n",
    "\n",
    "y = np.arange(-5, 5, 0.1)\n",
    "\n",
    "xx, yy = np.meshgrid(x, y, sparse=True)\n",
    "\n",
    "z = np.sin(xx**2 + yy**2) / (xx**2 + yy**2)\n",
    "\n",
    "h = plt.contourf(x, y, z)\n",
    "\n",
    "plt.axis('scaled')\n",
    "\n",
    "plt.show()"
   ]
  },
  {
   "cell_type": "code",
   "execution_count": 16,
   "metadata": {},
   "outputs": [
    {
     "data": {
      "image/png": "[encoded data removed]",
      "text/plain": [
       "<Figure size 432x288 with 1 Axes>"
      ]
     },
     "metadata": {
      "needs_background": "light"
     },
     "output_type": "display_data"
    }
   ],
   "source": [
    "def self_inductance(N, R, mi0):\n",
    "    # flux = i*pi*e**(-pi) * (4*e**pi + (2**(3/2) - 1)*e**(2**(3/2)) + 1 )*N*R*mi0\n",
    "    # return flux/i\n",
    "    return (pi*e**(-pi) * (4*e**pi + (2**(3/2) - 1)*e**(2**(3/2)) + 1 )*N*R*mi0)/(2**(13/2))\n",
    "\n",
    "def indutanciaMutua(N,R,mi0,d):\n",
    "    # flux=(i1*pi*N*R**2*d*(sqrt(d**2+R**2)-d)*mi0)/((d**2+R**2)**(3/2))\n",
    "    # return flux/i1\n",
    "    return (pi*N*R**2*d*(sqrt(d**2+R**2)-d)*mi0)/((d**2+R**2)**(3/2))\n",
    "\n",
    "def calcula_k(M,L1,L2):\n",
    "    return M/sqrt(L1*L2)\n",
    "\n",
    "\n",
    "lista_d=np.linspace(0,10,1000)\n",
    "N=200\n",
    "R=0.2\n",
    "mi0=4*pi*10e-7\n",
    "\n",
    "lista_k=[]\n",
    "for d in lista_d:\n",
    "    m=indutanciaMutua(N,R,mi0,d)\n",
    "    L1=self_inductance(N,R,mi0)\n",
    "    L2=self_inductance(N,R,mi0)\n",
    "    k=calcula_k(m,L1,L2)\n",
    "    lista_k.append(k)\n",
    "\n",
    "plt.plot(lista_d,lista_k)\n",
    "plt.xlabel(\"Distância\")\n",
    "plt.ylabel(\"Valor de k\")\n",
    "plt.show()\n"
   ]
  },
  {
   "cell_type": "code",
   "execution_count": 14,
   "metadata": {},
   "outputs": [
    {
     "name": "stderr",
     "output_type": "stream",
     "text": [
      "C:\\Users\\thpro\\Anaconda3\\lib\\site-packages\\ipykernel_launcher.py:4: RuntimeWarning: invalid value encountered in double_scalars\n",
      "  after removing the cwd from sys.path.\n"
     ]
    },
    {
     "data": {
      "image/png": "[encoded data removed]",
      "text/plain": [
       "<Figure size 432x288 with 1 Axes>"
      ]
     },
     "metadata": {
      "needs_background": "light"
     },
     "output_type": "display_data"
    }
   ],
   "source": [
    "def teste_arthur(N,R,d,mi0):\n",
    "    flux=(pi*N*R**2*d*(sqrt(d**2+R**2)-d)*mi0)/((d**2+R**2)**(3/2))\n",
    "    flux2 = (pi*e**(-pi) * (4*e**pi + (2**(3/2) - 1)*e**(2**(3/2)) + 1 )*N*R*mi0)/(2**(13/2))\n",
    "    return flux/(sqrt(flux2)*sqrt(flux))\n",
    "\n",
    "lista_d=np.linspace(0,10,1000)\n",
    "N=200\n",
    "R=0.2\n",
    "mi0=4*pi*10e-7\n",
    "\n",
    "lista_k=[]\n",
    "for d in lista_d:\n",
    "    k=teste_arthur(N,R,d,mi0)\n",
    "    lista_k.append(k)\n",
    "\n",
    "plt.plot(lista_d,lista_k)\n",
    "plt.show()\n"
   ]
  },
  {
   "cell_type": "code",
   "execution_count": null,
   "metadata": {},
   "outputs": [],
   "source": [
    "def transformer(v1, w, m, z1, z2):\n",
    "    xm = 1j*w*m\n",
    "    Z = np.array( [[z1, -xm], [-xm, z2]] )\n",
    "    V = np.array( [v1, 0] )\n",
    "    I = np.dot(linalg.inv(Z), V)\n",
    "    return I[0], I[1]\n",
    "\n",
    "N=200\n",
    "R=0.2\n",
    "resistividade=0.025\n",
    "lista_r2=[1,5,10,50,100,500,1000]\n",
    "v1=15/2\n",
    "XR1 = Z_R(R)     # Ohm\n",
    "XR2 = Z_R(R)     # Ohm\n",
    "XL1 = Z_L(w, L)  # Ohm\n",
    "XL2 = Z_L(w, L)  # Ohm\n",
    "XC1 = Z_C(w, C)  # Ohm\n",
    "XC2 = Z_C(w, C)  # Ohm\n",
    "XRC = Z_R(100)   # Ohm\n",
    "    # Association between components (Transformer's left side):\n",
    "Zp1 = in_series(XC1, XR1)\n",
    "Z1 = in_series(XL1, Zp1)\n",
    "    # Association between components (Transformer's right side):\n",
    "Zp2 = in_parallel(XC2, XRC)\n",
    "Zp3 = in_series(XR2, XL2)\n",
    "Z2 = in_series(Zp2, Zp3)\n",
    "\n",
    "for d in lista_d:\n",
    "    "
   ]
  }
 ],
 "metadata": {
  "interpreter": {
   "hash": "9c688c3da5bd2a32d81bf7eab5b87f3347d8796b309d332b5605ebd5586bf298"
  },
  "kernelspec": {
   "display_name": "Python 3.9.7 64-bit",
   "language": "python",
   "name": "python3"
  },
  "language_info": {
   "codemirror_mode": {
    "name": "ipython",
    "version": 3
   },
   "file_extension": ".py",
   "mimetype": "text/x-python",
   "name": "python",
   "nbconvert_exporter": "python",
   "pygments_lexer": "ipython3",
   "version": "3.7.4"
  },
  "orig_nbformat": 4
 },
 "nbformat": 4,
 "nbformat_minor": 2
}
