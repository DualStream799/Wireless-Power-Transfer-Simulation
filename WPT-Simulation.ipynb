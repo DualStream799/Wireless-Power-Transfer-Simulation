{
 "cells": [
  {
   "cell_type": "code",
   "execution_count": 4,
   "metadata": {},
   "outputs": [],
   "source": [
    "import matplotlib.pyplot as plt\n",
    "from numpy import linalg\n",
    "from cmath import *\n",
    "from math import *\n",
    "import numpy as np"
   ]
  },
  {
   "cell_type": "code",
   "execution_count": 5,
   "metadata": {},
   "outputs": [],
   "source": [
    "\"\"\"\n",
    "Returns the angular frequency w('omega') given the linear frequency f('freq')\n",
    "\"\"\"\n",
    "def omega(freq):\n",
    "    return 2*pi*freq\n",
    "\n",
    "\"\"\"\n",
    "Returns the phasorial representation of a resistor given it's resistance ('R')\n",
    "\"\"\"\n",
    "def Z_R(R):\n",
    "    return R\n",
    "\n",
    "\"\"\"\n",
    "Returns the phasorial representation of a capacitor given it's capacitance (in F) and the system frequency (both in rad/s or in Hz)\n",
    "\"\"\"\n",
    "def Z_C(w, C, f_in_Hz=False):\n",
    "    if f_in_Hz:\n",
    "        w = omega(w)\n",
    "    return 1/(1j*w*C)\n",
    "\n",
    "\"\"\"\n",
    "Returns the phasorial representation of a inductor given it's inductance (in H) and the system frequency (in both rad/s or in Hz)\n",
    "\"\"\"\n",
    "def Z_L(w, L, f_in_Hz=False):\n",
    "    if f_in_Hz:\n",
    "        w = omega(w)\n",
    "    return 1j*w*L\n",
    "\"\"\"\n",
    "Returns the polar representation of a phasor given it's cartesian (rectangular) representation\n",
    "\"\"\"\n",
    "def Z_rect_to_pol(Z):\n",
    "    return abs(Z), degrees(phase(Z))\n",
    "\n",
    "\"\"\"\n",
    "Shows a phasorial representation (in both polar and rectangular representations)\n",
    "\"\"\"\n",
    "def Z_show(Z, polar=True, before_text=\"\", after_text=\" \"):\n",
    "    if polar:\n",
    "        mod, ang = Z_rect_to_pol(Z)\n",
    "        print(before_text+\"{} < {}º\".format(mod, ang) + after_text)\n",
    "    else:\n",
    "        print(Z)\n",
    "    \n",
    "\"\"\"\n",
    "Returns the equivalent reactance given two reactances connected in parallel\n",
    "\"\"\"\n",
    "def in_parallel(Za, Zb):\n",
    "    return (Za * Zb) / (Za + Zb)\n",
    "\n",
    "\"\"\"\n",
    "Returns the equivalent reactance given two reactances connected in series\n",
    "\"\"\"    \n",
    "def in_series(Za, Zb):\n",
    "    return Za + Zb\n",
    "\n",
    "\"\"\"L\n",
    "Returns the current on a specific component given the Ohm's law (I = U / R)\n",
    "\"\"\"\n",
    "def current(Vt, Zx):\n",
    "    return Vt / Zx\n",
    "\n",
    "\"\"\"\n",
    "Returns the voltage on a specific component given the Ohm's law (U = R * I)\n",
    "\"\"\"\n",
    "def voltage(It, Zx):\n",
    "    return It*Zx\n",
    "\n",
    "\"\"\"\n",
    "Returns the currents on a tranformer component given the equivalent impedance of each side of the circuit(Z1, Z2)\n",
    "\"\"\"\n",
    "def transformer(v1, w, m, z1, z2):\n",
    "    xm = 1j*w*m\n",
    "    Z=np.array([[z1, -xm],[-xm, z2]])\n",
    "    V=np.array([v1,0])\n",
    "    I=np.dot(linalg.inv(Z),V)\n",
    "    return I[0], I[1]\n"
   ]
  },
  {
   "cell_type": "markdown",
   "metadata": {},
   "source": [
    "![Circuit Model](modelo_v1.png \"WPT Circuit Model\")"
   ]
  },
  {
   "cell_type": "code",
   "execution_count": 26,
   "metadata": {},
   "outputs": [
    {
     "name": "stderr",
     "output_type": "stream",
     "text": [
      "C:\\Users\\Dual Stream\\AppData\\Local\\Programs\\Python\\Python39\\lib\\site-packages\\matplotlib\\cbook\\__init__.py:1333: ComplexWarning: Casting complex values to real discards the imaginary part\n",
      "  return np.asarray(x, float)\n"
     ]
    },
    {
     "data": {
      "image/png": "[encoded data removed]",
      "text/plain": [
       "<Figure size 432x288 with 1 Axes>"
      ]
     },
     "metadata": {
      "needs_background": "light"
     },
     "output_type": "display_data"
    },
    {
     "name": "stdout",
     "output_type": "stream",
     "text": [
      "1825.7418583505537\n"
     ]
    }
   ],
   "source": [
    "\n",
    "# Natural ressonance frequency:\n",
    "\n",
    "V = 1e3 # V\n",
    "\n",
    "# \n",
    "lista_k=np.linspace(0,1,100)\n",
    "lista_w = []\n",
    "lista_v2 = []\n",
    "lista_i1 = []\n",
    "lista_i2 = []\n",
    "\n",
    "# r1=0.5\n",
    "# r2=0.5\n",
    "# l1=300e-3\n",
    "# l2=300e-3\n",
    "# f=60\n",
    "# k=0.5\n",
    "\n",
    "for w in range(1, 2000, 20):\n",
    "    lista_w.append(w)\n",
    "    # Phasorial Representation of all components:\n",
    "    L = 300e-3\n",
    "    C = 1e-6\n",
    "    R = 0.5\n",
    "    XR1 = Z_R(R)   # Ohm\n",
    "    XR2 = Z_R(R)   # Ohm\n",
    "    XL1 = Z_L(w, L)  # Ohm\n",
    "    XL2 = Z_L(w, L)  # Ohm\n",
    "    XC1 = Z_C(w, C)  # Ohm\n",
    "    XC2 = Z_C(w, C)  # Ohm\n",
    "    XRC = Z_R(100)   # Ohm\n",
    "\n",
    "    # Association between components:\n",
    "    Zp1 = in_series(XC1, XR1)\n",
    "    Z1 = in_series(XL1, Zp1)\n",
    "\n",
    "    Zp2 = in_parallel(XC2, XRC)\n",
    "    Zp3 = in_series(XR2, XL2)\n",
    "    Z2 = in_series(Zp2, Zp3)\n",
    "\n",
    "\n",
    "    k = 0.5\n",
    "    m = k*sqrt(L*L)\n",
    "    i1, i2 = transformer(V, w, m, Z1, Z2)\n",
    "    lista_i1.append(i1)\n",
    "    lista_i2.append(i2)\n",
    "\n",
    "plt.plot(lista_w, lista_i1, label=\"I1\")\n",
    "plt.plot(lista_w, lista_i2, label=\"I2\")\n",
    "plt.legend()\n",
    "plt.show()\n",
    "\n",
    "w = 1/sqrt(L*C)\n",
    "print(w)\n"
   ]
  },
  {
   "cell_type": "code",
   "execution_count": null,
   "metadata": {},
   "outputs": [],
   "source": []
  }
 ],
 "metadata": {
  "interpreter": {
   "hash": "9c688c3da5bd2a32d81bf7eab5b87f3347d8796b309d332b5605ebd5586bf298"
  },
  "kernelspec": {
   "display_name": "Python 3.9.7 64-bit",
   "language": "python",
   "name": "python3"
  },
  "language_info": {
   "codemirror_mode": {
    "name": "ipython",
    "version": 3
   },
   "file_extension": ".py",
   "mimetype": "text/x-python",
   "name": "python",
   "nbconvert_exporter": "python",
   "pygments_lexer": "ipython3",
   "version": "3.9.7"
  },
  "orig_nbformat": 4
 },
 "nbformat": 4,
 "nbformat_minor": 2
}
